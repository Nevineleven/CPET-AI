{
 "cells": [
  {
   "cell_type": "code",
   "execution_count": 1,
   "id": "233ce017-b3e5-43df-a3b0-7c71beb77ff5",
   "metadata": {},
   "outputs": [],
   "source": [
    "import numpy as np\n",
    "import pandas as pd\n",
    "import matplotlib.pyplot as plt\n",
    "import json"
   ]
  },
  {
   "cell_type": "code",
   "execution_count": 2,
   "id": "c886b961-22e0-487b-8e81-a9b848427347",
   "metadata": {},
   "outputs": [],
   "source": [
    "# Sean's pathname\n",
    "pathname = '/Users/seantsung/Library/CloudStorage/Box-Box/Stanford CPET Projects/'"
   ]
  },
  {
   "cell_type": "code",
   "execution_count": 3,
   "id": "2c1276f8-4a26-4e21-b40f-3ecb9dc73aae",
   "metadata": {},
   "outputs": [],
   "source": [
    "combined_cleaned_df = pd.read_parquet(pathname + 'BBB DATA/CPX datasets-selected/CleanedDatasets/combined_cleaned_df_111524.parquet')"
   ]
  },
  {
   "cell_type": "code",
   "execution_count": 4,
   "id": "2b9e2404-c81d-4daf-b3a7-e2892db1c200",
   "metadata": {},
   "outputs": [],
   "source": [
    "# Yuewei's pathname\n",
    "# pathname = '/Users/yueweiling/Documents/Data/cpet-ai/'\n",
    "# combined_cleaned_df = pd.read_parquet(pathname + 'combined_cleaned_df_111524.parquet')"
   ]
  },
  {
   "cell_type": "code",
   "execution_count": 5,
   "id": "5cf94591-a621-4549-9148-756f73a1233d",
   "metadata": {},
   "outputs": [],
   "source": [
    "# combined_cleaned_df"
   ]
  },
  {
   "cell_type": "code",
   "execution_count": 6,
   "id": "51ac3c45-c2f1-4211-9df1-27d7ffb6c6a8",
   "metadata": {},
   "outputs": [],
   "source": [
    "outcomes_df = pd.read_excel(pathname + 'CPX database_outcomes_meds_7.18.xlsx', sheet_name='Outcomes_updated')"
   ]
  },
  {
   "cell_type": "code",
   "execution_count": 7,
   "id": "2e3ee865-67ae-4710-8b02-d1c8b40f1d04",
   "metadata": {},
   "outputs": [],
   "source": [
    "outcomes_df = outcomes_df.rename(columns={'Test Date': 'testDate'})"
   ]
  },
  {
   "cell_type": "code",
   "execution_count": 8,
   "id": "3ba79284-1f7d-46d7-b5da-44704510ab19",
   "metadata": {},
   "outputs": [],
   "source": [
    "merged_df = pd.merge(combined_cleaned_df, outcomes_df, on=['MRN', 'testDate'], how='inner')"
   ]
  },
  {
   "cell_type": "code",
   "execution_count": 9,
   "id": "7ec8a798-7e2c-4e6d-9f1d-649569e3f4d8",
   "metadata": {},
   "outputs": [
    {
     "data": {
      "text/plain": [
       "MRN\n",
       "29833241.0    7\n",
       "27293620.0    7\n",
       "27623719.0    6\n",
       "30000046.0    6\n",
       "22759351.0    6\n",
       "             ..\n",
       "20874251.0    2\n",
       "17715855.0    2\n",
       "29911583.0    2\n",
       "40758831.0    2\n",
       "26776229.0    2\n",
       "Name: count, Length: 598, dtype: int64"
      ]
     },
     "execution_count": 9,
     "metadata": {},
     "output_type": "execute_result"
    }
   ],
   "source": [
    "# Duplicates in the 'MRN' column and their counts\n",
    "duplicate_counts = merged_df['MRN'].value_counts()\n",
    "duplicate_counts[duplicate_counts > 1]"
   ]
  },
  {
   "cell_type": "code",
   "execution_count": 37,
   "id": "191a956d-bde7-4c38-b559-dbd5654caceb",
   "metadata": {},
   "outputs": [
    {
     "data": {
      "text/html": [
       "<div>\n",
       "<style scoped>\n",
       "    .dataframe tbody tr th:only-of-type {\n",
       "        vertical-align: middle;\n",
       "    }\n",
       "\n",
       "    .dataframe tbody tr th {\n",
       "        vertical-align: top;\n",
       "    }\n",
       "\n",
       "    .dataframe thead th {\n",
       "        text-align: right;\n",
       "    }\n",
       "</style>\n",
       "<table border=\"1\" class=\"dataframe\">\n",
       "  <thead>\n",
       "    <tr style=\"text-align: right;\">\n",
       "      <th></th>\n",
       "      <th>testDate</th>\n",
       "      <th>post_cardiac_arrest_yrs</th>\n",
       "      <th>post_cardiogenic_shock_yrs</th>\n",
       "      <th>post_ecmo_yrs</th>\n",
       "      <th>post_heart_lung_transplant_yrs</th>\n",
       "      <th>post_htx_yrs</th>\n",
       "      <th>post_iabp_yrs</th>\n",
       "      <th>post_mcs_extracardiac_yrs</th>\n",
       "      <th>post_mcs_implantable_yrs</th>\n",
       "      <th>post_mcs_percutaneous_yrs</th>\n",
       "      <th>post_renal_failure_requiring_dialysis_yrs</th>\n",
       "      <th>post_shockable_rhythm_yrs</th>\n",
       "      <th>post_ventricular_fib_flut_yrs</th>\n",
       "    </tr>\n",
       "  </thead>\n",
       "  <tbody>\n",
       "    <tr>\n",
       "      <th>348</th>\n",
       "      <td>2017-09-08</td>\n",
       "      <td>NaN</td>\n",
       "      <td>0.99</td>\n",
       "      <td>NaN</td>\n",
       "      <td>1.00</td>\n",
       "      <td>1.00</td>\n",
       "      <td>NaN</td>\n",
       "      <td>NaN</td>\n",
       "      <td>NaN</td>\n",
       "      <td>NaN</td>\n",
       "      <td>1.07</td>\n",
       "      <td>NaN</td>\n",
       "      <td>NaN</td>\n",
       "    </tr>\n",
       "    <tr>\n",
       "      <th>1915</th>\n",
       "      <td>2016-09-30</td>\n",
       "      <td>NaN</td>\n",
       "      <td>1.93</td>\n",
       "      <td>NaN</td>\n",
       "      <td>1.94</td>\n",
       "      <td>1.94</td>\n",
       "      <td>NaN</td>\n",
       "      <td>NaN</td>\n",
       "      <td>NaN</td>\n",
       "      <td>NaN</td>\n",
       "      <td>2.01</td>\n",
       "      <td>NaN</td>\n",
       "      <td>NaN</td>\n",
       "    </tr>\n",
       "    <tr>\n",
       "      <th>2304</th>\n",
       "      <td>2016-08-26</td>\n",
       "      <td>NaN</td>\n",
       "      <td>2.02</td>\n",
       "      <td>NaN</td>\n",
       "      <td>2.04</td>\n",
       "      <td>2.04</td>\n",
       "      <td>NaN</td>\n",
       "      <td>NaN</td>\n",
       "      <td>NaN</td>\n",
       "      <td>NaN</td>\n",
       "      <td>2.10</td>\n",
       "      <td>NaN</td>\n",
       "      <td>NaN</td>\n",
       "    </tr>\n",
       "    <tr>\n",
       "      <th>2374</th>\n",
       "      <td>2017-03-10</td>\n",
       "      <td>NaN</td>\n",
       "      <td>1.49</td>\n",
       "      <td>NaN</td>\n",
       "      <td>1.50</td>\n",
       "      <td>1.50</td>\n",
       "      <td>NaN</td>\n",
       "      <td>NaN</td>\n",
       "      <td>NaN</td>\n",
       "      <td>NaN</td>\n",
       "      <td>1.57</td>\n",
       "      <td>NaN</td>\n",
       "      <td>NaN</td>\n",
       "    </tr>\n",
       "    <tr>\n",
       "      <th>2514</th>\n",
       "      <td>2014-12-09</td>\n",
       "      <td>NaN</td>\n",
       "      <td>3.74</td>\n",
       "      <td>NaN</td>\n",
       "      <td>3.75</td>\n",
       "      <td>3.75</td>\n",
       "      <td>NaN</td>\n",
       "      <td>NaN</td>\n",
       "      <td>NaN</td>\n",
       "      <td>NaN</td>\n",
       "      <td>3.82</td>\n",
       "      <td>NaN</td>\n",
       "      <td>NaN</td>\n",
       "    </tr>\n",
       "    <tr>\n",
       "      <th>3125</th>\n",
       "      <td>2017-09-08</td>\n",
       "      <td>NaN</td>\n",
       "      <td>0.99</td>\n",
       "      <td>NaN</td>\n",
       "      <td>1.00</td>\n",
       "      <td>1.00</td>\n",
       "      <td>NaN</td>\n",
       "      <td>NaN</td>\n",
       "      <td>NaN</td>\n",
       "      <td>NaN</td>\n",
       "      <td>1.07</td>\n",
       "      <td>NaN</td>\n",
       "      <td>NaN</td>\n",
       "    </tr>\n",
       "    <tr>\n",
       "      <th>3164</th>\n",
       "      <td>2018-03-14</td>\n",
       "      <td>NaN</td>\n",
       "      <td>0.48</td>\n",
       "      <td>NaN</td>\n",
       "      <td>0.49</td>\n",
       "      <td>0.49</td>\n",
       "      <td>NaN</td>\n",
       "      <td>NaN</td>\n",
       "      <td>NaN</td>\n",
       "      <td>NaN</td>\n",
       "      <td>0.56</td>\n",
       "      <td>NaN</td>\n",
       "      <td>NaN</td>\n",
       "    </tr>\n",
       "  </tbody>\n",
       "</table>\n",
       "</div>"
      ],
      "text/plain": [
       "       testDate  post_cardiac_arrest_yrs  post_cardiogenic_shock_yrs  \\\n",
       "348  2017-09-08                      NaN                        0.99   \n",
       "1915 2016-09-30                      NaN                        1.93   \n",
       "2304 2016-08-26                      NaN                        2.02   \n",
       "2374 2017-03-10                      NaN                        1.49   \n",
       "2514 2014-12-09                      NaN                        3.74   \n",
       "3125 2017-09-08                      NaN                        0.99   \n",
       "3164 2018-03-14                      NaN                        0.48   \n",
       "\n",
       "      post_ecmo_yrs  post_heart_lung_transplant_yrs  post_htx_yrs  \\\n",
       "348             NaN                            1.00          1.00   \n",
       "1915            NaN                            1.94          1.94   \n",
       "2304            NaN                            2.04          2.04   \n",
       "2374            NaN                            1.50          1.50   \n",
       "2514            NaN                            3.75          3.75   \n",
       "3125            NaN                            1.00          1.00   \n",
       "3164            NaN                            0.49          0.49   \n",
       "\n",
       "      post_iabp_yrs  post_mcs_extracardiac_yrs  post_mcs_implantable_yrs  \\\n",
       "348             NaN                        NaN                       NaN   \n",
       "1915            NaN                        NaN                       NaN   \n",
       "2304            NaN                        NaN                       NaN   \n",
       "2374            NaN                        NaN                       NaN   \n",
       "2514            NaN                        NaN                       NaN   \n",
       "3125            NaN                        NaN                       NaN   \n",
       "3164            NaN                        NaN                       NaN   \n",
       "\n",
       "      post_mcs_percutaneous_yrs  post_renal_failure_requiring_dialysis_yrs  \\\n",
       "348                         NaN                                       1.07   \n",
       "1915                        NaN                                       2.01   \n",
       "2304                        NaN                                       2.10   \n",
       "2374                        NaN                                       1.57   \n",
       "2514                        NaN                                       3.82   \n",
       "3125                        NaN                                       1.07   \n",
       "3164                        NaN                                       0.56   \n",
       "\n",
       "      post_shockable_rhythm_yrs  post_ventricular_fib_flut_yrs  \n",
       "348                         NaN                            NaN  \n",
       "1915                        NaN                            NaN  \n",
       "2304                        NaN                            NaN  \n",
       "2374                        NaN                            NaN  \n",
       "2514                        NaN                            NaN  \n",
       "3125                        NaN                            NaN  \n",
       "3164                        NaN                            NaN  "
      ]
     },
     "execution_count": 37,
     "metadata": {},
     "output_type": "execute_result"
    }
   ],
   "source": [
    "merged_df[merged_df['MRN'] == 29833241.0][['testDate'] + composite_outcome_yrs_columns]"
   ]
  },
  {
   "cell_type": "code",
   "execution_count": 11,
   "id": "160522db-858d-4be6-8ce5-496b5d8f34a4",
   "metadata": {},
   "outputs": [],
   "source": [
    "# Keep only the latest CPET for each patient\n",
    "merged_df_sorted = merged_df.sort_values(by=['MRN', 'testDate'], ascending=[True, False])\n",
    "merged = merged_df_sorted.drop_duplicates(subset='MRN', keep='first')"
   ]
  },
  {
   "cell_type": "code",
   "execution_count": 1,
   "id": "d647ecf8-9b17-4c29-bc11-de0a953b1a57",
   "metadata": {},
   "outputs": [],
   "source": [
    "#merged[merged['MRN'] == 29833241.0]"
   ]
  },
  {
   "cell_type": "code",
   "execution_count": 13,
   "id": "03892c74-2244-49c5-9f8d-730ebb3920b3",
   "metadata": {
    "scrolled": true
   },
   "outputs": [],
   "source": [
    "# merged"
   ]
  },
  {
   "cell_type": "code",
   "execution_count": 14,
   "id": "9807393d-f847-4756-a11f-fc2487b31f76",
   "metadata": {},
   "outputs": [],
   "source": [
    "composite_outcome_columns = [\n",
    "    \"post_cardiac_arrest\",\n",
    "    \"post_cardiogenic_shock\",\n",
    "    \"post_ecmo\",\n",
    "    \"post_heart_lung_transplant\",\n",
    "    \"post_htx\",\n",
    "    \"post_iabp\",\n",
    "    \"post_mcs_extracardiac\",\n",
    "    \"post_mcs_implantable\",\n",
    "    \"post_mcs_percutaneous\",\n",
    "    \"post_renal_failure_requiring_dialysis\",\n",
    "    \"post_shockable_rhythm\",\n",
    "    \"post_ventricular_fib_flut\"\n",
    "]"
   ]
  },
  {
   "cell_type": "code",
   "execution_count": 15,
   "id": "3240d062-5286-4e8c-ae56-2558d24741c4",
   "metadata": {},
   "outputs": [],
   "source": [
    "composite_outcome_yrs_columns = [\n",
    "    \"post_cardiac_arrest_yrs\",\n",
    "    \"post_cardiogenic_shock_yrs\",\n",
    "    \"post_ecmo_yrs\",\n",
    "    \"post_heart_lung_transplant_yrs\",\n",
    "    \"post_htx_yrs\",\n",
    "    \"post_iabp_yrs\",\n",
    "    \"post_mcs_extracardiac_yrs\",\n",
    "    \"post_mcs_implantable_yrs\",\n",
    "    \"post_mcs_percutaneous_yrs\",\n",
    "    \"post_renal_failure_requiring_dialysis_yrs\",\n",
    "    \"post_shockable_rhythm_yrs\",\n",
    "    \"post_ventricular_fib_flut_yrs\"\n",
    "]"
   ]
  },
  {
   "cell_type": "code",
   "execution_count": 16,
   "id": "15537eba-3ed4-4400-8528-a23291de6f34",
   "metadata": {},
   "outputs": [
    {
     "data": {
      "text/plain": [
       "(2312, 223)"
      ]
     },
     "execution_count": 16,
     "metadata": {},
     "output_type": "execute_result"
    }
   ],
   "source": [
    "merged.shape"
   ]
  },
  {
   "cell_type": "code",
   "execution_count": 17,
   "id": "ce74033c-f4a4-4991-9b08-213fbd819af5",
   "metadata": {},
   "outputs": [
    {
     "data": {
      "text/html": [
       "<div>\n",
       "<style scoped>\n",
       "    .dataframe tbody tr th:only-of-type {\n",
       "        vertical-align: middle;\n",
       "    }\n",
       "\n",
       "    .dataframe tbody tr th {\n",
       "        vertical-align: top;\n",
       "    }\n",
       "\n",
       "    .dataframe thead th {\n",
       "        text-align: right;\n",
       "    }\n",
       "</style>\n",
       "<table border=\"1\" class=\"dataframe\">\n",
       "  <thead>\n",
       "    <tr style=\"text-align: right;\">\n",
       "      <th></th>\n",
       "      <th>post_cardiac_arrest</th>\n",
       "      <th>post_cardiogenic_shock</th>\n",
       "      <th>post_ecmo</th>\n",
       "      <th>post_heart_lung_transplant</th>\n",
       "      <th>post_htx</th>\n",
       "      <th>post_iabp</th>\n",
       "      <th>post_mcs_extracardiac</th>\n",
       "      <th>post_mcs_implantable</th>\n",
       "      <th>post_mcs_percutaneous</th>\n",
       "      <th>post_renal_failure_requiring_dialysis</th>\n",
       "      <th>post_shockable_rhythm</th>\n",
       "      <th>post_ventricular_fib_flut</th>\n",
       "    </tr>\n",
       "  </thead>\n",
       "  <tbody>\n",
       "    <tr>\n",
       "      <th>342</th>\n",
       "      <td>NaN</td>\n",
       "      <td>NaN</td>\n",
       "      <td>NaN</td>\n",
       "      <td>NaN</td>\n",
       "      <td>NaN</td>\n",
       "      <td>NaN</td>\n",
       "      <td>NaN</td>\n",
       "      <td>NaN</td>\n",
       "      <td>NaN</td>\n",
       "      <td>NaN</td>\n",
       "      <td>NaN</td>\n",
       "      <td>NaN</td>\n",
       "    </tr>\n",
       "    <tr>\n",
       "      <th>1590</th>\n",
       "      <td>0.0</td>\n",
       "      <td>0.0</td>\n",
       "      <td>NaN</td>\n",
       "      <td>0.0</td>\n",
       "      <td>0.0</td>\n",
       "      <td>NaN</td>\n",
       "      <td>NaN</td>\n",
       "      <td>0.0</td>\n",
       "      <td>NaN</td>\n",
       "      <td>0.0</td>\n",
       "      <td>NaN</td>\n",
       "      <td>0.0</td>\n",
       "    </tr>\n",
       "    <tr>\n",
       "      <th>1262</th>\n",
       "      <td>NaN</td>\n",
       "      <td>NaN</td>\n",
       "      <td>NaN</td>\n",
       "      <td>NaN</td>\n",
       "      <td>NaN</td>\n",
       "      <td>NaN</td>\n",
       "      <td>NaN</td>\n",
       "      <td>NaN</td>\n",
       "      <td>NaN</td>\n",
       "      <td>NaN</td>\n",
       "      <td>NaN</td>\n",
       "      <td>NaN</td>\n",
       "    </tr>\n",
       "    <tr>\n",
       "      <th>2391</th>\n",
       "      <td>0.0</td>\n",
       "      <td>0.0</td>\n",
       "      <td>NaN</td>\n",
       "      <td>0.0</td>\n",
       "      <td>0.0</td>\n",
       "      <td>NaN</td>\n",
       "      <td>NaN</td>\n",
       "      <td>0.0</td>\n",
       "      <td>NaN</td>\n",
       "      <td>0.0</td>\n",
       "      <td>NaN</td>\n",
       "      <td>0.0</td>\n",
       "    </tr>\n",
       "    <tr>\n",
       "      <th>1986</th>\n",
       "      <td>0.0</td>\n",
       "      <td>0.0</td>\n",
       "      <td>NaN</td>\n",
       "      <td>0.0</td>\n",
       "      <td>0.0</td>\n",
       "      <td>NaN</td>\n",
       "      <td>NaN</td>\n",
       "      <td>0.0</td>\n",
       "      <td>NaN</td>\n",
       "      <td>0.0</td>\n",
       "      <td>NaN</td>\n",
       "      <td>0.0</td>\n",
       "    </tr>\n",
       "    <tr>\n",
       "      <th>...</th>\n",
       "      <td>...</td>\n",
       "      <td>...</td>\n",
       "      <td>...</td>\n",
       "      <td>...</td>\n",
       "      <td>...</td>\n",
       "      <td>...</td>\n",
       "      <td>...</td>\n",
       "      <td>...</td>\n",
       "      <td>...</td>\n",
       "      <td>...</td>\n",
       "      <td>...</td>\n",
       "      <td>...</td>\n",
       "    </tr>\n",
       "    <tr>\n",
       "      <th>1084</th>\n",
       "      <td>0.0</td>\n",
       "      <td>0.0</td>\n",
       "      <td>NaN</td>\n",
       "      <td>0.0</td>\n",
       "      <td>0.0</td>\n",
       "      <td>NaN</td>\n",
       "      <td>NaN</td>\n",
       "      <td>0.0</td>\n",
       "      <td>NaN</td>\n",
       "      <td>0.0</td>\n",
       "      <td>NaN</td>\n",
       "      <td>0.0</td>\n",
       "    </tr>\n",
       "    <tr>\n",
       "      <th>241</th>\n",
       "      <td>0.0</td>\n",
       "      <td>0.0</td>\n",
       "      <td>NaN</td>\n",
       "      <td>0.0</td>\n",
       "      <td>0.0</td>\n",
       "      <td>NaN</td>\n",
       "      <td>NaN</td>\n",
       "      <td>0.0</td>\n",
       "      <td>NaN</td>\n",
       "      <td>0.0</td>\n",
       "      <td>NaN</td>\n",
       "      <td>0.0</td>\n",
       "    </tr>\n",
       "    <tr>\n",
       "      <th>1957</th>\n",
       "      <td>NaN</td>\n",
       "      <td>NaN</td>\n",
       "      <td>NaN</td>\n",
       "      <td>NaN</td>\n",
       "      <td>NaN</td>\n",
       "      <td>NaN</td>\n",
       "      <td>NaN</td>\n",
       "      <td>NaN</td>\n",
       "      <td>NaN</td>\n",
       "      <td>NaN</td>\n",
       "      <td>NaN</td>\n",
       "      <td>NaN</td>\n",
       "    </tr>\n",
       "    <tr>\n",
       "      <th>1887</th>\n",
       "      <td>0.0</td>\n",
       "      <td>0.0</td>\n",
       "      <td>NaN</td>\n",
       "      <td>0.0</td>\n",
       "      <td>0.0</td>\n",
       "      <td>NaN</td>\n",
       "      <td>NaN</td>\n",
       "      <td>0.0</td>\n",
       "      <td>NaN</td>\n",
       "      <td>0.0</td>\n",
       "      <td>NaN</td>\n",
       "      <td>0.0</td>\n",
       "    </tr>\n",
       "    <tr>\n",
       "      <th>1438</th>\n",
       "      <td>NaN</td>\n",
       "      <td>NaN</td>\n",
       "      <td>NaN</td>\n",
       "      <td>NaN</td>\n",
       "      <td>NaN</td>\n",
       "      <td>NaN</td>\n",
       "      <td>NaN</td>\n",
       "      <td>NaN</td>\n",
       "      <td>NaN</td>\n",
       "      <td>NaN</td>\n",
       "      <td>NaN</td>\n",
       "      <td>NaN</td>\n",
       "    </tr>\n",
       "  </tbody>\n",
       "</table>\n",
       "<p>223 rows × 12 columns</p>\n",
       "</div>"
      ],
      "text/plain": [
       "      post_cardiac_arrest  post_cardiogenic_shock  post_ecmo  \\\n",
       "342                   NaN                     NaN        NaN   \n",
       "1590                  0.0                     0.0        NaN   \n",
       "1262                  NaN                     NaN        NaN   \n",
       "2391                  0.0                     0.0        NaN   \n",
       "1986                  0.0                     0.0        NaN   \n",
       "...                   ...                     ...        ...   \n",
       "1084                  0.0                     0.0        NaN   \n",
       "241                   0.0                     0.0        NaN   \n",
       "1957                  NaN                     NaN        NaN   \n",
       "1887                  0.0                     0.0        NaN   \n",
       "1438                  NaN                     NaN        NaN   \n",
       "\n",
       "      post_heart_lung_transplant  post_htx  post_iabp  post_mcs_extracardiac  \\\n",
       "342                          NaN       NaN        NaN                    NaN   \n",
       "1590                         0.0       0.0        NaN                    NaN   \n",
       "1262                         NaN       NaN        NaN                    NaN   \n",
       "2391                         0.0       0.0        NaN                    NaN   \n",
       "1986                         0.0       0.0        NaN                    NaN   \n",
       "...                          ...       ...        ...                    ...   \n",
       "1084                         0.0       0.0        NaN                    NaN   \n",
       "241                          0.0       0.0        NaN                    NaN   \n",
       "1957                         NaN       NaN        NaN                    NaN   \n",
       "1887                         0.0       0.0        NaN                    NaN   \n",
       "1438                         NaN       NaN        NaN                    NaN   \n",
       "\n",
       "      post_mcs_implantable  post_mcs_percutaneous  \\\n",
       "342                    NaN                    NaN   \n",
       "1590                   0.0                    NaN   \n",
       "1262                   NaN                    NaN   \n",
       "2391                   0.0                    NaN   \n",
       "1986                   0.0                    NaN   \n",
       "...                    ...                    ...   \n",
       "1084                   0.0                    NaN   \n",
       "241                    0.0                    NaN   \n",
       "1957                   NaN                    NaN   \n",
       "1887                   0.0                    NaN   \n",
       "1438                   NaN                    NaN   \n",
       "\n",
       "      post_renal_failure_requiring_dialysis  post_shockable_rhythm  \\\n",
       "342                                     NaN                    NaN   \n",
       "1590                                    0.0                    NaN   \n",
       "1262                                    NaN                    NaN   \n",
       "2391                                    0.0                    NaN   \n",
       "1986                                    0.0                    NaN   \n",
       "...                                     ...                    ...   \n",
       "1084                                    0.0                    NaN   \n",
       "241                                     0.0                    NaN   \n",
       "1957                                    NaN                    NaN   \n",
       "1887                                    0.0                    NaN   \n",
       "1438                                    NaN                    NaN   \n",
       "\n",
       "      post_ventricular_fib_flut  \n",
       "342                         NaN  \n",
       "1590                        0.0  \n",
       "1262                        NaN  \n",
       "2391                        0.0  \n",
       "1986                        0.0  \n",
       "...                         ...  \n",
       "1084                        0.0  \n",
       "241                         0.0  \n",
       "1957                        NaN  \n",
       "1887                        0.0  \n",
       "1438                        NaN  \n",
       "\n",
       "[223 rows x 12 columns]"
      ]
     },
     "execution_count": 17,
     "metadata": {},
     "output_type": "execute_result"
    }
   ],
   "source": [
    "# Create a boolean Series that is True if any column in the row contains NaN\n",
    "rows_with_na = merged[composite_outcome_columns].isna().any(axis=1)\n",
    "\n",
    "# To get the rows where there is at least one NaN value, you can filter the DataFrame\n",
    "merged[composite_outcome_columns][rows_with_na]"
   ]
  },
  {
   "cell_type": "code",
   "execution_count": 18,
   "id": "0cd07382-5af3-4309-ac2e-25deba40ee9a",
   "metadata": {},
   "outputs": [],
   "source": [
    "merged = merged.dropna(subset=composite_outcome_columns)"
   ]
  },
  {
   "cell_type": "code",
   "execution_count": 19,
   "id": "b6fe06b4-902b-4e37-9f39-495e8c2370bd",
   "metadata": {},
   "outputs": [
    {
     "data": {
      "text/plain": [
       "0"
      ]
     },
     "execution_count": 19,
     "metadata": {},
     "output_type": "execute_result"
    }
   ],
   "source": [
    "merged['Death'].isnull().sum()"
   ]
  },
  {
   "cell_type": "code",
   "execution_count": 20,
   "id": "e4183a2c-d095-44d9-b08a-330bffb7aa67",
   "metadata": {},
   "outputs": [
    {
     "data": {
      "text/plain": [
       "(2089, 223)"
      ]
     },
     "execution_count": 20,
     "metadata": {},
     "output_type": "execute_result"
    }
   ],
   "source": [
    "merged.shape"
   ]
  },
  {
   "cell_type": "code",
   "execution_count": 21,
   "id": "4c906124-31c1-45d8-9b81-a3768d9c613d",
   "metadata": {},
   "outputs": [],
   "source": [
    "merged['composite_outcome'] = merged[composite_outcome_columns].max(axis=1)"
   ]
  },
  {
   "cell_type": "code",
   "execution_count": 22,
   "id": "a9a7e3fa-84c5-4a7b-ad22-e93016394bf7",
   "metadata": {},
   "outputs": [
    {
     "data": {
      "text/plain": [
       "composite_outcome\n",
       "0.0    1776\n",
       "1.0     313\n",
       "Name: count, dtype: int64"
      ]
     },
     "execution_count": 22,
     "metadata": {},
     "output_type": "execute_result"
    }
   ],
   "source": [
    "merged['composite_outcome'].value_counts()"
   ]
  },
  {
   "cell_type": "code",
   "execution_count": 23,
   "id": "09c53ec9-f053-42cd-920f-e43f52c24b05",
   "metadata": {},
   "outputs": [
    {
     "name": "stdout",
     "output_type": "stream",
     "text": [
      "Proportion of the occurrence for composite outcomes: 15.0%\n"
     ]
    }
   ],
   "source": [
    "# Proportion of the occurrence for secondary outcomes\n",
    "composite_outcome_counts = merged['composite_outcome'].value_counts()\n",
    "composite_outcome_occurrence = composite_outcome_counts.get(1, 0) / composite_outcome_counts.sum() * 100\n",
    "print(f\"Proportion of the occurrence for composite outcomes: {composite_outcome_occurrence:.1f}%\")"
   ]
  },
  {
   "cell_type": "code",
   "execution_count": 24,
   "id": "31c0a9fc-8800-4319-8f68-a1a5244524b4",
   "metadata": {},
   "outputs": [],
   "source": [
    "merged['composite_outcome_yrs'] = merged[composite_outcome_yrs_columns].fillna(1000).min(axis=1).replace({1000: np.nan})"
   ]
  },
  {
   "cell_type": "code",
   "execution_count": 25,
   "id": "5a3388be-f5f8-49d3-8605-69ab5f78f998",
   "metadata": {},
   "outputs": [
    {
     "data": {
      "text/plain": [
       "count    313.000000\n",
       "mean       1.115208\n",
       "std        1.264586\n",
       "min        0.000000\n",
       "25%        0.200000\n",
       "50%        0.580000\n",
       "75%        1.780000\n",
       "max        6.560000\n",
       "Name: composite_outcome_yrs, dtype: float64"
      ]
     },
     "execution_count": 25,
     "metadata": {},
     "output_type": "execute_result"
    }
   ],
   "source": [
    "merged['composite_outcome_yrs'].describe()"
   ]
  },
  {
   "cell_type": "code",
   "execution_count": 26,
   "id": "42742b1d-6de5-4ca0-92fa-3d9c3ef08a28",
   "metadata": {},
   "outputs": [
    {
     "data": {
      "text/plain": [
       "Death\n",
       "0.0    2021\n",
       "1.0      68\n",
       "Name: count, dtype: int64"
      ]
     },
     "execution_count": 26,
     "metadata": {},
     "output_type": "execute_result"
    }
   ],
   "source": [
    "merged['Death'].value_counts()"
   ]
  },
  {
   "cell_type": "code",
   "execution_count": 27,
   "id": "b7b05e60-50a3-4624-8908-ff3507447fa0",
   "metadata": {},
   "outputs": [
    {
     "name": "stdout",
     "output_type": "stream",
     "text": [
      "Mortality rate: 3.3\n"
     ]
    }
   ],
   "source": [
    "# Mortality\n",
    "death_counts = merged['Death'].value_counts()\n",
    "death_occurrence = death_counts.get(1, 0) / death_counts.sum() * 100\n",
    "print(f\"Mortality rate: {death_occurrence:.1f}\")"
   ]
  },
  {
   "cell_type": "markdown",
   "id": "f0c03f1b-b447-4d55-9583-0ca6caf3232a",
   "metadata": {},
   "source": [
    "---\n",
    "\n",
    "**Assuming no events for patients with missing values**"
   ]
  },
  {
   "cell_type": "code",
   "execution_count": 28,
   "id": "57774f6d-2874-4bee-a0da-7c3015dd5da5",
   "metadata": {},
   "outputs": [],
   "source": [
    "merged['composite_outcome_yrs'] = merged[composite_outcome_yrs_columns].fillna(1000).min(axis=1).replace({1000: np.nan})"
   ]
  },
  {
   "cell_type": "code",
   "execution_count": 29,
   "id": "b1ac0efd-6d95-4d95-9896-965ed8bff476",
   "metadata": {},
   "outputs": [],
   "source": [
    "merged['composite_outcome'] = (merged[composite_outcome_columns].fillna(0).sum(axis=1) > 0).astype(int)"
   ]
  },
  {
   "cell_type": "code",
   "execution_count": 30,
   "id": "eecc5f17-d818-4489-9c59-0c00ecbc58cf",
   "metadata": {},
   "outputs": [
    {
     "data": {
      "text/plain": [
       "count    313.000000\n",
       "mean       1.115208\n",
       "std        1.264586\n",
       "min        0.000000\n",
       "25%        0.200000\n",
       "50%        0.580000\n",
       "75%        1.780000\n",
       "max        6.560000\n",
       "Name: composite_outcome_yrs, dtype: float64"
      ]
     },
     "execution_count": 30,
     "metadata": {},
     "output_type": "execute_result"
    }
   ],
   "source": [
    "merged['composite_outcome_yrs'].describe()"
   ]
  },
  {
   "cell_type": "code",
   "execution_count": 31,
   "id": "4c9e52b5-ebc7-4d1d-808e-14e6d3d47f82",
   "metadata": {},
   "outputs": [
    {
     "data": {
      "text/plain": [
       "composite_outcome\n",
       "0    1776\n",
       "1     313\n",
       "Name: count, dtype: int64"
      ]
     },
     "execution_count": 31,
     "metadata": {},
     "output_type": "execute_result"
    }
   ],
   "source": [
    "merged['composite_outcome'].value_counts()"
   ]
  },
  {
   "cell_type": "code",
   "execution_count": 32,
   "id": "3c28fd2a-4218-46b2-b5d9-8366712faab2",
   "metadata": {},
   "outputs": [
    {
     "data": {
      "text/plain": [
       "post_cardiac_arrest                      0\n",
       "post_cardiogenic_shock                   0\n",
       "post_ecmo                                0\n",
       "post_heart_lung_transplant               0\n",
       "post_htx                                 0\n",
       "post_iabp                                0\n",
       "post_mcs_extracardiac                    0\n",
       "post_mcs_implantable                     0\n",
       "post_mcs_percutaneous                    0\n",
       "post_renal_failure_requiring_dialysis    0\n",
       "post_shockable_rhythm                    0\n",
       "post_ventricular_fib_flut                0\n",
       "dtype: int64"
      ]
     },
     "execution_count": 32,
     "metadata": {},
     "output_type": "execute_result"
    }
   ],
   "source": [
    "merged[composite_outcome_columns].isnull().sum()"
   ]
  },
  {
   "cell_type": "code",
   "execution_count": 33,
   "id": "ad171773-4f2b-4e31-adc8-a3b963d2a833",
   "metadata": {},
   "outputs": [
    {
     "data": {
      "text/plain": [
       "0    1754\n",
       "1     335\n",
       "Name: count, dtype: int64"
      ]
     },
     "execution_count": 33,
     "metadata": {},
     "output_type": "execute_result"
    }
   ],
   "source": [
    "(merged[composite_outcome_columns + ['Death']].fillna(0).sum(axis=1) > 0).astype(int).value_counts()"
   ]
  },
  {
   "cell_type": "code",
   "execution_count": 34,
   "id": "150c29a5-ad14-4bc5-a15a-644f4bcede9d",
   "metadata": {},
   "outputs": [
    {
     "data": {
      "text/plain": [
       "Death\n",
       "0.0    2021\n",
       "1.0      68\n",
       "Name: count, dtype: int64"
      ]
     },
     "execution_count": 34,
     "metadata": {},
     "output_type": "execute_result"
    }
   ],
   "source": [
    "merged['Death'].value_counts()"
   ]
  }
 ],
 "metadata": {
  "kernelspec": {
   "display_name": "cpetai",
   "language": "python",
   "name": "python3"
  },
  "language_info": {
   "codemirror_mode": {
    "name": "ipython",
    "version": 3
   },
   "file_extension": ".py",
   "mimetype": "text/x-python",
   "name": "python",
   "nbconvert_exporter": "python",
   "pygments_lexer": "ipython3",
   "version": "3.12.7"
  }
 },
 "nbformat": 4,
 "nbformat_minor": 5
}
