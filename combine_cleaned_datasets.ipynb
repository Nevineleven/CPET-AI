{
 "cells": [
  {
   "cell_type": "code",
   "execution_count": 1,
   "metadata": {},
   "outputs": [],
   "source": [
    "import pandas as pd\n",
    "import os\n",
    "\n",
    "workdir = \"/Users/ns/cpet-ai/CPET-AI\"\n",
    "df_bxb_nevin = pd.read_parquet(os.path.join(workdir, \"nevin_bxb_cleaned.parquet\"))\n",
    "df_bxb_sn = pd.read_parquet(os.path.join(workdir, \"sean_yuewei_cleaned_cpet_df.parquet\"))"
   ]
  },
  {
   "cell_type": "code",
   "execution_count": 2,
   "metadata": {},
   "outputs": [
    {
     "name": "stdout",
     "output_type": "stream",
     "text": [
      "Columns in df_bxb_nevin but not in df_bxb_sn:\n",
      "{'index', 'time_of_test', 'testDate', 'level_0', 'testTime', 'MRN'}\n",
      "\n",
      "Columns in df_bxb_sn but not in df_bxb_nevin:\n",
      "{'testDateTime'}\n",
      "\n",
      "Data types comparison for common columns:\n",
      "                 df_bxb_nevin                   df_bxb_sn\n",
      "ExerciseDuration       object                     float64\n",
      "Height                 object                     float64\n",
      "AmbientRH              object                     float64\n",
      "BarometricPress        object                     float64\n",
      "DOB                    object  datetime64[ns, US/Pacific]\n",
      "AmbientTemp            object                     float64\n",
      "Weight                 object                     float64\n",
      "TestDuration           object                     float64\n"
     ]
    }
   ],
   "source": [
    "# Compare columns between dataframes\n",
    "print(\"Columns in df_bxb_nevin but not in df_bxb_sn:\")\n",
    "print(set(df_bxb_nevin.columns) - set(df_bxb_sn.columns))\n",
    "print(\"\\nColumns in df_bxb_sn but not in df_bxb_nevin:\")\n",
    "print(set(df_bxb_sn.columns) - set(df_bxb_nevin.columns))\n",
    "\n",
    "print(\"\\nData types comparison for common columns:\")\n",
    "common_cols = set(df_bxb_nevin.columns) & set(df_bxb_sn.columns)\n",
    "comparison = pd.DataFrame({\n",
    "    'df_bxb_nevin': df_bxb_nevin[common_cols].dtypes.astype(str),  # Convert dtypes to string\n",
    "    'df_bxb_sn': df_bxb_sn[common_cols].dtypes.astype(str)         # Convert dtypes to string\n",
    "})\n",
    "print(comparison[comparison['df_bxb_nevin'] != comparison['df_bxb_sn']])"
   ]
  },
  {
   "cell_type": "code",
   "execution_count": 21,
   "metadata": {},
   "outputs": [],
   "source": [
    "# Localize time_of_test to Los Angeles timezone\n",
    "df_bxb_nevin['time_of_test'] = pd.to_datetime(df_bxb_nevin['time_of_test']).dt.tz_localize('US/Pacific')\n",
    "df_bxb_nevin.rename(columns={'time_of_test': 'testDateTime'}, inplace=True)\n"
   ]
  },
  {
   "cell_type": "code",
   "execution_count": 3,
   "metadata": {},
   "outputs": [],
   "source": [
    "df_combined = pd.read_parquet(os.path.join(workdir, \"combined_cleaned_df.parquet\"))"
   ]
  },
  {
   "cell_type": "code",
   "execution_count": 18,
   "metadata": {},
   "outputs": [
    {
     "data": {
      "text/plain": [
       "0        930\n",
       "1        868\n",
       "2        918\n",
       "3       1094\n",
       "4       1089\n",
       "        ... \n",
       "3877     914\n",
       "3878     782\n",
       "3879    1062\n",
       "3880     620\n",
       "3881    1056\n",
       "Name: Time, Length: 3882, dtype: object"
      ]
     },
     "execution_count": 18,
     "metadata": {},
     "output_type": "execute_result"
    }
   ],
   "source": [
    "time_last_char"
   ]
  },
  {
   "cell_type": "code",
   "execution_count": 22,
   "metadata": {},
   "outputs": [
    {
     "name": "stdout",
     "output_type": "stream",
     "text": [
      "Rows where Time last character doesn't match TestDuration (with tolerance of 5):\n",
      "                                                   Time  TestDuration\n",
      "213   [0, 3, 8, 12, 15, 26, 29, 40, 49, 56, 62, 65, ...        1020.0\n",
      "214   [1, 3, 6, 7, 9, 11, 13, 15, 17, 19, 21, 23, 25...         647.0\n",
      "960   [3, 5, 8, 12, 16, 20, 22, 26, 29, 32, 35, 38, ...         940.0\n",
      "1095                      [0, 3, 8, 12, 15, 18, 22, 25]         860.0\n",
      "1334  [1, 8, 16, 22, 26, 30, 34, 37, 41, 46, 52, 58,...        2580.0\n",
      "2021  [1, 5, 9, 13, 16, 21, 26, 35, 42, 50, 57, 60, ...        1136.0\n",
      "2380  [3, 7, 11, 15, 20, 24, 27, 31, 35, 39, 45, 48,...        1020.0\n",
      "3656  [2, 6, 8, 12, 13, 17, 20, 23, 26, 29, 33, 36, ...           0.0\n",
      "\n",
      "Total mismatches: 8\n"
     ]
    }
   ],
   "source": [
    "# Extract last character from Time column and compare with testDuration with tolerance\n",
    "time_last_char = df_combined.Time.apply(lambda x: int(x[-1]))\n",
    "mismatch_mask = abs(time_last_char - df_combined.TestDuration) > 20\n",
    "print(\"Rows where Time last character doesn't match TestDuration (with tolerance of 5):\")\n",
    "print(df_combined[mismatch_mask][['Time', 'TestDuration']])\n",
    "print(f\"\\nTotal mismatches: {mismatch_mask.sum()}\")"
   ]
  },
  {
   "cell_type": "code",
   "execution_count": 27,
   "metadata": {},
   "outputs": [
    {
     "data": {
      "text/plain": [
       "680"
      ]
     },
     "execution_count": 27,
     "metadata": {},
     "output_type": "execute_result"
    }
   ],
   "source": [
    "time_last_char.iloc[214]"
   ]
  }
 ],
 "metadata": {
  "kernelspec": {
   "display_name": "base",
   "language": "python",
   "name": "python3"
  },
  "language_info": {
   "codemirror_mode": {
    "name": "ipython",
    "version": 3
   },
   "file_extension": ".py",
   "mimetype": "text/x-python",
   "name": "python",
   "nbconvert_exporter": "python",
   "pygments_lexer": "ipython3",
   "version": "3.7.4"
  }
 },
 "nbformat": 4,
 "nbformat_minor": 2
}
