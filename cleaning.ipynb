{
 "cells": [
  {
   "cell_type": "code",
   "execution_count": 2,
   "id": "698382df-0ffb-43e8-838d-777b63c7ced7",
   "metadata": {},
   "outputs": [],
   "source": [
    "import numpy as np\n",
    "import pandas as pd\n",
    "import matplotlib.pyplot as plt\n",
    "import json"
   ]
  },
  {
   "cell_type": "code",
   "execution_count": 4,
   "id": "9a2b232c-c9b2-4c90-9176-027c72509f9e",
   "metadata": {},
   "outputs": [],
   "source": [
    "# Sean's pathname\n",
    "pathname = '/Users/seantsung/Library/CloudStorage/Box-Box/Stanford CPET Projects/'"
   ]
  },
  {
   "cell_type": "markdown",
   "id": "02ac0094-c4a9-442a-9fa0-0509d5dbc3ed",
   "metadata": {},
   "source": [
    "## Create Cleaned CPET DF"
   ]
  },
  {
   "cell_type": "code",
   "execution_count": 5,
   "id": "5d888194-5050-412a-ab51-2bb92bfe7e6f",
   "metadata": {},
   "outputs": [],
   "source": [
    "cpet_df = pd.read_json(pathname + 'BBB DATA/CPX datasets-selected/BxBData.json').transpose()"
   ]
  },
  {
   "cell_type": "code",
   "execution_count": 6,
   "id": "ceee688b-a898-4e98-bfa1-f1f68fc96090",
   "metadata": {},
   "outputs": [
    {
     "data": {
      "text/plain": [
       "Index(['firstName', 'lastName', 'ID1', 'Gender', 'DOB', 'Height', 'Weight',\n",
       "       'testDate', 'testTime', 'TestDuration', 'ExerciseDuration', 'Ergometer',\n",
       "       'Protocol', 'BarometricPress', 'AmbientTemp', 'AmbientRH', 'Time', 'Rf',\n",
       "       'VT', 'VE', 'VO2', 'VCO2', 'RQ', 'O2exp', 'CO2exp', 'VE/VO2', 'VE/VCO2',\n",
       "       'VO2/Kg', 'METS', 'HR', 'VO2/HR', 'FeO2', 'FeCO2', 'FetO2', 'FetCO2',\n",
       "       'FiO2', 'FiCO2', 'SpO2', 'Power', 'Real_Power', 'Revolution', 'Speed',\n",
       "       'Grade', 'P_Syst', 'P_Diast', 'Phase', 'Ambient_Temp', 'RH_Amb',\n",
       "       'Analyzer_Pressure', 'PB', 'Ti', 'Te', 'Dyspnea', 'Leg Pain'],\n",
       "      dtype='object')"
      ]
     },
     "execution_count": 6,
     "metadata": {},
     "output_type": "execute_result"
    }
   ],
   "source": [
    "cpet_df.columns"
   ]
  },
  {
   "cell_type": "code",
   "execution_count": 8,
   "id": "6f2407cb-86d5-4029-863b-2986f301f334",
   "metadata": {},
   "outputs": [],
   "source": [
    "single_entry_columns = ['firstName', 'lastName', 'ID1', 'Gender', 'DOB', 'Height', 'Weight',\n",
    "       'testDate', 'testTime', 'TestDuration', 'ExerciseDuration', 'Ergometer',\n",
    "       'Protocol', 'BarometricPress', 'AmbientTemp', 'AmbientRH']"
   ]
  },
  {
   "cell_type": "code",
   "execution_count": 4,
   "id": "636d16b4-fc64-4e78-9b87-a5ce3a957aa2",
   "metadata": {},
   "outputs": [],
   "source": [
    "multi_entry_columns = ['Time', 'Rf',\n",
    "       'VT', 'VE', 'VO2', 'VCO2', 'RQ', 'O2exp', 'CO2exp', 'VE/VO2', 'VE/VCO2',\n",
    "       'VO2/Kg', 'METS', 'HR', 'VO2/HR', 'FeO2', 'FeCO2', 'FetO2', 'FetCO2',\n",
    "       'FiO2', 'FiCO2', 'SpO2', 'Power', 'Real_Power', 'Revolution', 'Speed',\n",
    "       'Grade', 'P_Syst', 'P_Diast', 'Phase', 'Ambient_Temp', 'RH_Amb',\n",
    "       'Analyzer_Pressure', 'PB', 'Ti', 'Te', 'Dyspnea', 'Leg Pain']"
   ]
  },
  {
   "cell_type": "code",
   "execution_count": 10,
   "id": "e320268b-364a-4f07-b5f5-c4b128e5cdce",
   "metadata": {},
   "outputs": [
    {
     "data": {
      "text/plain": [
       "38"
      ]
     },
     "execution_count": 10,
     "metadata": {},
     "output_type": "execute_result"
    }
   ],
   "source": [
    "len(multi_entry_columns)"
   ]
  },
  {
   "cell_type": "code",
   "execution_count": 20,
   "id": "a5b5567a-5767-4264-abbc-35c6724bcf45",
   "metadata": {},
   "outputs": [],
   "source": [
    "# All multi-entry columns \n",
    "float_columns = ['Height', 'Weight', 'BarometricPress', 'AmbientTemp', 'AmbientRH', 'Time', 'Rf',\n",
    "       'VT', 'VE', 'VO2', 'VCO2', 'RQ', 'O2exp', 'CO2exp', 'VE/VO2', 'VE/VCO2',\n",
    "       'VO2/Kg', 'METS', 'HR', 'VO2/HR', 'FeO2', 'FeCO2', 'FetO2', 'FetCO2',\n",
    "       'FiO2', 'FiCO2', 'SpO2', 'Power', 'Real_Power', 'Revolution', 'Speed',\n",
    "       'Grade', 'P_Syst', 'P_Diast', 'Ambient_Temp', 'RH_Amb',\n",
    "       'Analyzer_Pressure', 'PB', 'Ti', 'Te']"
   ]
  },
  {
   "cell_type": "code",
   "execution_count": 24,
   "id": "2bf3b5ac-b420-42e7-ba9a-1b74992cc648",
   "metadata": {},
   "outputs": [],
   "source": [
    "time_columns = ['DOB', 'testDate', 'testTime']"
   ]
  },
  {
   "cell_type": "code",
   "execution_count": 26,
   "id": "2d2ca968-f620-46e0-90e0-7fbe2f7cfcf4",
   "metadata": {},
   "outputs": [],
   "source": [
    "duration_columns = ['TestDuration', 'ExerciseDuration']"
   ]
  },
  {
   "cell_type": "code",
   "execution_count": 28,
   "id": "47b83e94-b591-4b66-99a6-7fb297a3b90b",
   "metadata": {},
   "outputs": [],
   "source": [
    "str_columns = ['firstName', 'lastName', 'ID1', 'Gender', 'Ergometer', 'Protocol', 'Phase', 'Dyspnea', 'Leg Pain']"
   ]
  },
  {
   "cell_type": "code",
   "execution_count": 30,
   "id": "47b2dff2-08f3-462b-b178-e2b436f3c0a0",
   "metadata": {},
   "outputs": [],
   "source": [
    "def process_time(df):\n",
    "    df['testDateTime'] = pd.to_datetime(df['testDate'] + ' ' + df['testTime']).dt.tz_localize('US/Pacific')\n",
    "    df.drop(columns = ['testDate', 'testTime'], inplace=True)\n",
    "    df['DOB'] = pd.to_datetime(df['DOB']).dt.tz_localize('US/Pacific')"
   ]
  },
  {
   "cell_type": "code",
   "execution_count": 32,
   "id": "69d58c13-8df7-4642-831b-1b5079d18e52",
   "metadata": {},
   "outputs": [],
   "source": [
    "def process_cpet(df):\n",
    "    for col in df:\n",
    "        if col in single_entry_columns:\n",
    "            df[col] = df[col].apply(process_single_entry_list)\n",
    "            if col in float_columns:\n",
    "                df[col] = df[col].astype(float)\n",
    "            elif col in duration_columns:\n",
    "                df[col] = df[col].str.split(\":\").apply(lambda x: float(x[0]) * 60 + float(x[1]))\n",
    "        if col in multi_entry_columns:\n",
    "            df[col] = df[col].apply(process_multi_entry_list, args=(col,))\n",
    "    process_time(df)"
   ]
  },
  {
   "cell_type": "code",
   "execution_count": 17,
   "id": "a0b3e245-c08e-439f-ae79-c1517814a1cb",
   "metadata": {},
   "outputs": [],
   "source": [
    "def process_single_entry_list(x):\n",
    "    if pd.isna(x):\n",
    "        return x\n",
    "    return x[0]"
   ]
  },
  {
   "cell_type": "code",
   "execution_count": 34,
   "id": "871a47bb-e721-4be8-8cb7-1f0c3977ff8b",
   "metadata": {},
   "outputs": [],
   "source": [
    "def process_multi_entry_list(x, col):\n",
    "    if col in float_columns:\n",
    "        float_x = [float(i) if (i != '') else np.NaN for i in x]\n",
    "        if sum(pd.Series(float_x).isna()) == len(float_x):\n",
    "            return list()\n",
    "        else:\n",
    "            return float_x\n",
    "    if col in str_columns:\n",
    "        # All empty string\n",
    "        x = list(x)\n",
    "        if x.count(\"\") == len(x):\n",
    "            return list()\n",
    "        else:\n",
    "            return x"
   ]
  },
  {
   "cell_type": "code",
   "execution_count": 1,
   "id": "b0590c30-8ad1-4f83-981e-e4ad1e6a9c77",
   "metadata": {},
   "outputs": [],
   "source": [
    "# cpet_df"
   ]
  },
  {
   "cell_type": "code",
   "execution_count": 19,
   "id": "361eedd1-c1f4-49c2-8376-9ae22c70c259",
   "metadata": {},
   "outputs": [
    {
     "name": "stderr",
     "output_type": "stream",
     "text": [
      "/var/folders/m2/jn0ybx8d5pn4y_x2l0trfkk00000gp/T/ipykernel_21768/313362486.py:2: UserWarning: Could not infer format, so each element will be parsed individually, falling back to `dateutil`. To ensure parsing is consistent and as-expected, please specify a format.\n",
      "  df['testDateTime'] = pd.to_datetime(df['testDate'] + ' ' + df['testTime']).dt.tz_localize('US/Pacific')\n"
     ]
    }
   ],
   "source": [
    "process_cpet(cpet_df)"
   ]
  },
  {
   "cell_type": "code",
   "execution_count": 20,
   "id": "3e5d17d0-fb1b-44e7-96cd-e4f48cf70095",
   "metadata": {},
   "outputs": [
    {
     "data": {
      "text/plain": [
       "firstName                                object\n",
       "lastName                                 object\n",
       "ID1                                      object\n",
       "Gender                                   object\n",
       "DOB                  datetime64[ns, US/Pacific]\n",
       "Height                                  float64\n",
       "Weight                                  float64\n",
       "TestDuration                            float64\n",
       "ExerciseDuration                        float64\n",
       "Ergometer                                object\n",
       "Protocol                                 object\n",
       "BarometricPress                         float64\n",
       "AmbientTemp                             float64\n",
       "AmbientRH                               float64\n",
       "Time                                     object\n",
       "Rf                                       object\n",
       "VT                                       object\n",
       "VE                                       object\n",
       "VO2                                      object\n",
       "VCO2                                     object\n",
       "RQ                                       object\n",
       "O2exp                                    object\n",
       "CO2exp                                   object\n",
       "VE/VO2                                   object\n",
       "VE/VCO2                                  object\n",
       "VO2/Kg                                   object\n",
       "METS                                     object\n",
       "HR                                       object\n",
       "VO2/HR                                   object\n",
       "FeO2                                     object\n",
       "FeCO2                                    object\n",
       "FetO2                                    object\n",
       "FetCO2                                   object\n",
       "FiO2                                     object\n",
       "FiCO2                                    object\n",
       "SpO2                                     object\n",
       "Power                                    object\n",
       "Real_Power                               object\n",
       "Revolution                               object\n",
       "Speed                                    object\n",
       "Grade                                    object\n",
       "P_Syst                                   object\n",
       "P_Diast                                  object\n",
       "Phase                                    object\n",
       "Ambient_Temp                             object\n",
       "RH_Amb                                   object\n",
       "Analyzer_Pressure                        object\n",
       "PB                                       object\n",
       "Ti                                       object\n",
       "Te                                       object\n",
       "Dyspnea                                  object\n",
       "Leg Pain                                 object\n",
       "testDateTime         datetime64[ns, US/Pacific]\n",
       "dtype: object"
      ]
     },
     "execution_count": 20,
     "metadata": {},
     "output_type": "execute_result"
    }
   ],
   "source": [
    "cpet_df.dtypes"
   ]
  },
  {
   "cell_type": "code",
   "execution_count": 18,
   "id": "06316cd6-874e-47cd-aeeb-f38ff23dc234",
   "metadata": {},
   "outputs": [],
   "source": [
    "#cpet_df"
   ]
  },
  {
   "cell_type": "code",
   "execution_count": 20,
   "id": "9025d621-726f-4aba-8871-b6810fe84847",
   "metadata": {},
   "outputs": [],
   "source": [
    "#cpet_df['Time']"
   ]
  },
  {
   "cell_type": "code",
   "execution_count": 17,
   "id": "6fc3146e-e689-4bc0-ac5a-f79ab035336e",
   "metadata": {},
   "outputs": [
    {
     "data": {
      "text/plain": [
       "Timestamp('2012-09-06 09:11:00-0700', tz='US/Pacific')"
      ]
     },
     "execution_count": 17,
     "metadata": {},
     "output_type": "execute_result"
    }
   ],
   "source": [
    "min(cpet_df.testDateTime)"
   ]
  },
  {
   "cell_type": "code",
   "execution_count": 18,
   "id": "b42af545-7077-4279-8d89-525638c71e5b",
   "metadata": {},
   "outputs": [
    {
     "data": {
      "text/plain": [
       "Timestamp('2020-06-01 15:59:00-0700', tz='US/Pacific')"
      ]
     },
     "execution_count": 18,
     "metadata": {},
     "output_type": "execute_result"
    }
   ],
   "source": [
    "max(cpet_df.testDateTime)"
   ]
  },
  {
   "cell_type": "code",
   "execution_count": 22,
   "id": "b9ec6339-9747-4fce-8052-711f3582e87a",
   "metadata": {},
   "outputs": [
    {
     "data": {
      "text/plain": [
       "2858"
      ]
     },
     "execution_count": 22,
     "metadata": {},
     "output_type": "execute_result"
    }
   ],
   "source": [
    "len(np.unique(cpet_df.ID1))"
   ]
  },
  {
   "cell_type": "code",
   "execution_count": 28,
   "id": "8c221da1-e4d0-4073-a1ff-af0075791de1",
   "metadata": {},
   "outputs": [],
   "source": [
    "#cpet_df['Dyspnea'].value_counts()"
   ]
  },
  {
   "cell_type": "code",
   "execution_count": 26,
   "id": "4eca74ec-9449-45fc-acbb-7a19e9bc5d72",
   "metadata": {},
   "outputs": [
    {
     "data": {
      "text/plain": [
       "Leg Pain\n",
       "[]    4221\n",
       "Name: count, dtype: int64"
      ]
     },
     "execution_count": 26,
     "metadata": {},
     "output_type": "execute_result"
    }
   ],
   "source": [
    "cpet_df['Leg Pain'].value_counts()"
   ]
  },
  {
   "cell_type": "code",
   "execution_count": 168,
   "id": "c804bf40-11eb-4cc6-8579-3b6fee0f9462",
   "metadata": {},
   "outputs": [],
   "source": [
    "cpet_df['list_length'] = cpet_df['Time'].apply(len)"
   ]
  },
  {
   "cell_type": "code",
   "execution_count": 178,
   "id": "04402722-acce-4b69-9b59-9aeed8060c9f",
   "metadata": {},
   "outputs": [
    {
     "data": {
      "image/png": "[encoded data removed]",
      "text/plain": [
       "<Figure size 640x480 with 1 Axes>"
      ]
     },
     "metadata": {},
     "output_type": "display_data"
    }
   ],
   "source": [
    "plt.hist(cpet_df['list_length']);"
   ]
  },
  {
   "cell_type": "code",
   "execution_count": 189,
   "id": "969d2a17-ccbb-4204-b595-1fcb9423f709",
   "metadata": {},
   "outputs": [],
   "source": [
    "#Alternative measure of test duration.\n",
    "cpet_df['LastTime'] = cpet_df['Time'].apply(lambda x: x[-1])"
   ]
  },
  {
   "cell_type": "code",
   "execution_count": 184,
   "id": "7faadd11-0756-4666-a0f6-bde0cbab3819",
   "metadata": {},
   "outputs": [
    {
     "data": {
      "text/plain": [
       "Text(0, 0.5, 'Test Duration')"
      ]
     },
     "execution_count": 184,
     "metadata": {},
     "output_type": "execute_result"
    },
    {
     "data": {
      "image/png": "[encoded data removed]",
      "text/plain": [
       "<Figure size 640x480 with 1 Axes>"
      ]
     },
     "metadata": {},
     "output_type": "display_data"
    }
   ],
   "source": [
    "plt.scatter(cpet_df['list_length'], cpet_df['TestDuration'], alpha=0.5);\n",
    "plt.xlabel(\"List Length\")\n",
    "plt.ylabel(\"Test Duration\")"
   ]
  },
  {
   "cell_type": "code",
   "execution_count": 191,
   "id": "9d29ff44-5f11-44bc-83e2-90bb00d3737e",
   "metadata": {},
   "outputs": [
    {
     "data": {
      "image/png": "[encoded data removed]",
      "text/plain": [
       "<Figure size 640x480 with 1 Axes>"
      ]
     },
     "metadata": {},
     "output_type": "display_data"
    }
   ],
   "source": [
    "plt.scatter(cpet_df['LastTime'], cpet_df['TestDuration'], alpha=0.5);\n",
    "plt.xlabel(\"Last Time\")\n",
    "plt.ylabel(\"Test Duration\");"
   ]
  },
  {
   "cell_type": "code",
   "execution_count": 166,
   "id": "df58dca5-564c-4e78-9aeb-662cb36ea7f3",
   "metadata": {},
   "outputs": [
    {
     "data": {
      "text/plain": [
       "Index(['firstName', 'lastName', 'ID1', 'Gender', 'DOB', 'Height', 'Weight',\n",
       "       'TestDuration', 'ExerciseDuration', 'Ergometer', 'Protocol',\n",
       "       'BarometricPress', 'AmbientTemp', 'AmbientRH', 'Time', 'Rf', 'VT', 'VE',\n",
       "       'VO2', 'VCO2', 'RQ', 'O2exp', 'CO2exp', 'VE/VO2', 'VE/VCO2', 'VO2/Kg',\n",
       "       'METS', 'HR', 'VO2/HR', 'FeO2', 'FeCO2', 'FetO2', 'FetCO2', 'FiO2',\n",
       "       'FiCO2', 'SpO2', 'Power', 'Real_Power', 'Revolution', 'Speed', 'Grade',\n",
       "       'P_Syst', 'P_Diast', 'Phase', 'Ambient_Temp', 'RH_Amb',\n",
       "       'Analyzer_Pressure', 'PB', 'Ti', 'Te', 'Dyspnea', 'Leg Pain',\n",
       "       'testDateTime'],\n",
       "      dtype='object')"
      ]
     },
     "execution_count": 166,
     "metadata": {},
     "output_type": "execute_result"
    }
   ],
   "source": [
    "cpet_df.columns"
   ]
  },
  {
   "cell_type": "code",
   "execution_count": null,
   "id": "a4ff7db9-0835-42bf-b07b-08c20e9233fa",
   "metadata": {},
   "outputs": [],
   "source": [
    "cpet_df['firstName'] = cpet_df['firstName'].astype(str).str.replace(\"['\", \"\").str.replace(\"']\", \"\")"
   ]
  },
  {
   "cell_type": "code",
   "execution_count": 57,
   "id": "9abfe1fa-1cb4-4f2b-9d86-ecff5d0ffd85",
   "metadata": {},
   "outputs": [],
   "source": [
    "cpet_df['lastName'] = cpet_df['lastName'].astype(str).str.replace(\"['\", \"\").str.replace(\"']\", \"\")"
   ]
  },
  {
   "cell_type": "code",
   "execution_count": 64,
   "id": "05b017c1-06ef-4bb9-9936-7a19e36c0d99",
   "metadata": {},
   "outputs": [],
   "source": [
    "cpet_df['ID1'] = cpet_df['ID1'].astype(str).str.replace(\"['\", \"\").str.replace(\"']\", \"\")"
   ]
  },
  {
   "cell_type": "code",
   "execution_count": 70,
   "id": "406aa59a-f6cc-4f1e-8462-f33f7a57dd10",
   "metadata": {},
   "outputs": [
    {
     "data": {
      "text/plain": [
       "count\n",
       "1     2058\n",
       "2      494\n",
       "3      193\n",
       "4       62\n",
       "5       33\n",
       "6       11\n",
       "7        3\n",
       "9        2\n",
       "70       1\n",
       "8        1\n",
       "Name: count, dtype: int64"
      ]
     },
     "execution_count": 70,
     "metadata": {},
     "output_type": "execute_result"
    }
   ],
   "source": [
    "cpet_df['ID1'].value_counts().value_counts()"
   ]
  },
  {
   "cell_type": "code",
   "execution_count": 32,
   "id": "48d5bb8f-d8c3-42bf-9984-5547067eebcf",
   "metadata": {},
   "outputs": [],
   "source": [
    "cpet_df['firstName'] = cpet_df['firstName'].astype(str)"
   ]
  },
  {
   "cell_type": "code",
   "execution_count": 22,
   "id": "e6bce8c1-d3d6-430f-a29a-d7789b1d3c38",
   "metadata": {},
   "outputs": [],
   "source": [
    "cpet_df.to_parquet(pathname + \"BBB DATA/CPX datasets-selected/CleanedDatasets/sean_yuewei_cleaned_cpet_df\")"
   ]
  },
  {
   "cell_type": "markdown",
   "id": "1e863c19-b3e7-42ea-af15-4fbf22b0c5a0",
   "metadata": {},
   "source": [
    "## Process Combined CPET DF (Sean + Yuewei + Nevin)"
   ]
  },
  {
   "cell_type": "code",
   "execution_count": 36,
   "id": "8b5480d0-7319-4e45-9da2-be56f718e0ce",
   "metadata": {},
   "outputs": [],
   "source": [
    "def process_combined_cpet(df):\n",
    "    for col in df:\n",
    "        if col in multi_entry_columns:\n",
    "            df[col] = df[col].apply(process_multi_entry_list, args=(col,))"
   ]
  },
  {
   "cell_type": "code",
   "execution_count": 49,
   "id": "88f972f6-ae67-4b1c-84ef-ef4986163c22",
   "metadata": {},
   "outputs": [],
   "source": [
    "combined_cleaned_df = pd.read_parquet(pathname + 'BBB DATA/CPX datasets-selected/CleanedDatasets/combined_cleaned_df.parquet')"
   ]
  },
  {
   "cell_type": "code",
   "execution_count": 50,
   "id": "0be6c69d-7fa2-403e-bffd-e801b44828f9",
   "metadata": {},
   "outputs": [],
   "source": [
    "process_combined_cpet(combined_cleaned_df)"
   ]
  },
  {
   "cell_type": "code",
   "execution_count": 54,
   "id": "a2a5622d-e2b3-4ed3-bd41-88382ca11129",
   "metadata": {},
   "outputs": [],
   "source": [
    "combined_cleaned_df.to_parquet(pathname + 'BBB DATA/CPX datasets-selected/CleanedDatasets/combined_cleaned_df_111524.parquet')"
   ]
  }
 ],
 "metadata": {
  "kernelspec": {
   "display_name": "Python 3 (ipykernel)",
   "language": "python",
   "name": "python3"
  },
  "language_info": {
   "codemirror_mode": {
    "name": "ipython",
    "version": 3
   },
   "file_extension": ".py",
   "mimetype": "text/x-python",
   "name": "python",
   "nbconvert_exporter": "python",
   "pygments_lexer": "ipython3",
   "version": "3.12.4"
  }
 },
 "nbformat": 4,
 "nbformat_minor": 5
}
